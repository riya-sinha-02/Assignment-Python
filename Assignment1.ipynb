{
 "cells": [
  {
   "cell_type": "markdown",
   "metadata": {},
   "source": [
    "## Assignment 1"
   ]
  },
  {
   "cell_type": "markdown",
   "metadata": {},
   "source": [
    "Data Structures"
   ]
  },
  {
   "cell_type": "markdown",
   "metadata": {},
   "source": [
    "#### TASK 1"
   ]
  },
  {
   "cell_type": "markdown",
   "metadata": {},
   "source": [
    "Write a Python program which accepts the radius of a circle from the user and computes area"
   ]
  },
  {
   "cell_type": "code",
   "execution_count": 1,
   "metadata": {},
   "outputs": [
    {
     "name": "stdout",
     "output_type": "stream",
     "text": [
      "Input the radius of the circle: 1.1\n",
      "The area of the circle with radius 1.1 is: 3.8028571428571434\n"
     ]
    }
   ],
   "source": [
    "r = float(input(\"Input the radius of the circle: \"))\n",
    "area = (r*r*22)/7\n",
    "print (\"The area of the circle with radius\",r,\"is:\",area)"
   ]
  },
  {
   "cell_type": "markdown",
   "metadata": {},
   "source": [
    "#### TASK 2"
   ]
  },
  {
   "cell_type": "markdown",
   "metadata": {},
   "source": [
    "Write a Python program to accept a filename from the user and print the extension of that"
   ]
  },
  {
   "cell_type": "code",
   "execution_count": 2,
   "metadata": {},
   "outputs": [
    {
     "name": "stdout",
     "output_type": "stream",
     "text": [
      "Input the filename: abc.py\n",
      "The extension of the file is: Python\n"
     ]
    }
   ],
   "source": [
    "name = input(\"Input the filename: \")\n",
    "sep = name.split('.')[-1]\n",
    "def output():\n",
    "    if (sep=='py'):\n",
    "        print (\"The extension of the file is: Python\")\n",
    "    elif (sep=='txt'):\n",
    "        print (\"The extension of the file is: Text\")\n",
    "    elif (sep=='tex'):\n",
    "        print (\"The extension of the file is: LaTeX\")\n",
    "    elif (sep=='ipynb'):\n",
    "        print (\"The extension of the file is: Notebook\")\n",
    "    elif (sep=='pdf'):\n",
    "        print (\"The extension of the file is: PDF\")\n",
    "    elif (sep=='doc' or sep=='docx'):\n",
    "        print (\"The extension of the file is: Microsoft Word\")\n",
    "    elif (sep=='xls' or sep=='xlsx'):\n",
    "        print (\"The extension of the file is: Microsoft Excel\")\n",
    "    elif (sep=='ppt' or sep=='pptx'):\n",
    "        print (\"The extension of the file is: Microsoft Powerpoint\")\n",
    "    elif (sep=='html' or sep=='htm'):\n",
    "        print (\"The extension of the file is: HTML\")\n",
    "    elif (sep=='jpeg' or sep=='jpg'):\n",
    "        print (\"The extension of the file is: JPEG\")\n",
    "    elif (sep=='png'):\n",
    "        print (\"The extension of the file is: PNG\")\n",
    "    elif (sep=='bmp'):\n",
    "        print (\"The extension of the file is: Bitmap\")\n",
    "    elif (sep=='gif'):\n",
    "        print (\"The extension of the file is: GIF\")\n",
    "    else:\n",
    "        print(\"Incorrect Input\")\n",
    "  \n",
    "output()"
   ]
  }
 ],
 "metadata": {
  "kernelspec": {
   "display_name": "Python 3",
   "language": "python",
   "name": "python3"
  },
  "language_info": {
   "codemirror_mode": {
    "name": "ipython",
    "version": 3
   },
   "file_extension": ".py",
   "mimetype": "text/x-python",
   "name": "python",
   "nbconvert_exporter": "python",
   "pygments_lexer": "ipython3",
   "version": "3.7.6"
  }
 },
 "nbformat": 4,
 "nbformat_minor": 4
}
