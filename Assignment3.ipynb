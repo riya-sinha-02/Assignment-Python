{
 "cells": [
  {
   "cell_type": "markdown",
   "metadata": {},
   "source": [
    "## Assignment 3"
   ]
  },
  {
   "cell_type": "markdown",
   "metadata": {},
   "source": [
    "Functions"
   ]
  },
  {
   "cell_type": "markdown",
   "metadata": {},
   "source": [
    "#### TASK "
   ]
  },
  {
   "cell_type": "markdown",
   "metadata": {},
   "source": [
    "Write a Python code to create a function called most_frequent that takes a string and prints the letters in decreasing order of frequency. Use dictionaries"
   ]
  },
  {
   "cell_type": "code",
   "execution_count": 1,
   "metadata": {},
   "outputs": [],
   "source": [
    "def most_frequent(a):  \n",
    "    s = ''.join(sorted(a, key = a.count, reverse = True))\n",
    "    c = {}\n",
    "    for char in s: \n",
    "       if char in c: \n",
    "          c[char] = c[char] + 1\n",
    "       else: \n",
    "          c[char] = 1\n",
    "    print (\"Output: {}\".format(str(c)))"
   ]
  },
  {
   "cell_type": "code",
   "execution_count": 2,
   "metadata": {},
   "outputs": [
    {
     "name": "stdout",
     "output_type": "stream",
     "text": [
      "Output: {'i': 4, 's': 4, 'p': 2, 'm': 1}\n"
     ]
    }
   ],
   "source": [
    "b = 'mississippi'\n",
    "most_frequent(b)"
   ]
  },
  {
   "cell_type": "code",
   "execution_count": 3,
   "metadata": {},
   "outputs": [
    {
     "name": "stdout",
     "output_type": "stream",
     "text": [
      "Please Enter a String: mississippi\n",
      "Output: {'i': 4, 's': 4, 'p': 2, 'm': 1}\n"
     ]
    }
   ],
   "source": [
    "str1 = input('Please Enter a String: ')\n",
    "most_frequent(str1)"
   ]
  },
  {
   "cell_type": "code",
   "execution_count": 4,
   "metadata": {},
   "outputs": [
    {
     "name": "stdout",
     "output_type": "stream",
     "text": [
      "Please Enter a String: yolo\n",
      "Output: {'o': 2, 'y': 1, 'l': 1}\n"
     ]
    }
   ],
   "source": [
    "str1 = input('Please Enter a String: ')\n",
    "most_frequent(str1)"
   ]
  }
 ],
 "metadata": {
  "kernelspec": {
   "display_name": "Python 3",
   "language": "python",
   "name": "python3"
  },
  "language_info": {
   "codemirror_mode": {
    "name": "ipython",
    "version": 3
   },
   "file_extension": ".py",
   "mimetype": "text/x-python",
   "name": "python",
   "nbconvert_exporter": "python",
   "pygments_lexer": "ipython3",
   "version": "3.7.6"
  }
 },
 "nbformat": 4,
 "nbformat_minor": 4
}
