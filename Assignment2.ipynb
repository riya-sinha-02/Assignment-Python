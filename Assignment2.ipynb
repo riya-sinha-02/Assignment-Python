{
 "cells": [
  {
   "cell_type": "markdown",
   "metadata": {},
   "source": [
    "## Assignment 2"
   ]
  },
  {
   "cell_type": "markdown",
   "metadata": {},
   "source": [
    "Loops"
   ]
  },
  {
   "cell_type": "markdown",
   "metadata": {},
   "source": [
    "#### TASK 1"
   ]
  },
  {
   "cell_type": "markdown",
   "metadata": {},
   "source": [
    "Write a Python program for Fibonacci numbers"
   ]
  },
  {
   "cell_type": "code",
   "execution_count": null,
   "metadata": {},
   "outputs": [],
   "source": [
    "num1 = 0\n",
    "num2 = 1\n",
    "i = 0\n",
    "j = int(input('Enter upto what place you want the series: '))\n",
    "print(num1)\n",
    "print(num2)\n",
    "while(i<j-2):\n",
    "    num3=num1+num2\n",
    "    print(num3)\n",
    "    num1=num2\n",
    "    num2=num3\n",
    "    i = i+1\n",
    "print('END')"
   ]
  },
  {
   "cell_type": "markdown",
   "metadata": {},
   "source": [
    "#### TASK 2"
   ]
  },
  {
   "cell_type": "markdown",
   "metadata": {},
   "source": [
    "Write a Python program to print all positive numbers in a range"
   ]
  },
  {
   "cell_type": "code",
   "execution_count": null,
   "metadata": {},
   "outputs": [],
   "source": [
    "list = []\n",
    "a = int(input('The number values be put in list:'))\n",
    "print (\"Enter the values: \")\n",
    "\n",
    "for i in range(0,a):\n",
    "    list.append(int(input()))\n",
    "    \n",
    "print(\" \")\n",
    "print (\"Input:\",list)\n",
    "print(\"Output:\",[list for list in list if list>0])"
   ]
  },
  {
   "cell_type": "code",
   "execution_count": null,
   "metadata": {},
   "outputs": [],
   "source": [
    "x = [12,-7,5,64,-14]\n",
    "y = [12,14,-95,3]\n",
    "\n",
    "print (\"Input: list1 =\",x)\n",
    "print(\"Output:\",[x for x in x if x>0])\n",
    "print(\" \")\n",
    "print (\"Input: list2 =\",y)\n",
    "print(\"Output:\",[y for y in y if y>0])"
   ]
  }
 ],
 "metadata": {
  "kernelspec": {
   "display_name": "Python 3",
   "language": "python",
   "name": "python3"
  },
  "language_info": {
   "codemirror_mode": {
    "name": "ipython",
    "version": 3
   },
   "file_extension": ".py",
   "mimetype": "text/x-python",
   "name": "python",
   "nbconvert_exporter": "python",
   "pygments_lexer": "ipython3",
   "version": "3.7.6"
  }
 },
 "nbformat": 4,
 "nbformat_minor": 4
}
