{
 "cells": [
  {
   "cell_type": "markdown",
   "metadata": {},
   "source": [
    "## Assignment 2"
   ]
  },
  {
   "cell_type": "markdown",
   "metadata": {},
   "source": [
    "Loops"
   ]
  },
  {
   "cell_type": "markdown",
   "metadata": {},
   "source": [
    "#### TASK 1"
   ]
  },
  {
   "cell_type": "markdown",
   "metadata": {},
   "source": [
    "Write a Python program for Fibonacci numbers"
   ]
  },
  {
   "cell_type": "code",
   "execution_count": 1,
   "metadata": {},
   "outputs": [
    {
     "name": "stdout",
     "output_type": "stream",
     "text": [
      "Enter upto what place you want the series: 10\n",
      "0\n",
      "1\n",
      "1\n",
      "2\n",
      "3\n",
      "5\n",
      "8\n",
      "13\n",
      "21\n",
      "34\n",
      "END\n"
     ]
    }
   ],
   "source": [
    "num1 = 0\n",
    "num2 = 1\n",
    "i = 0\n",
    "j = int(input('Enter upto what place you want the series: '))\n",
    "print(num1)\n",
    "print(num2)\n",
    "while(i<j-2):\n",
    "    num3=num1+num2\n",
    "    print(num3)\n",
    "    num1=num2\n",
    "    num2=num3\n",
    "    i = i+1\n",
    "print('END')"
   ]
  },
  {
   "cell_type": "markdown",
   "metadata": {},
   "source": [
    "#### TASK 2"
   ]
  },
  {
   "cell_type": "markdown",
   "metadata": {},
   "source": [
    "Write a Python program to print all positive numbers in a range"
   ]
  },
  {
   "cell_type": "code",
   "execution_count": 2,
   "metadata": {},
   "outputs": [
    {
     "name": "stdout",
     "output_type": "stream",
     "text": [
      "The number values be put in list:4\n",
      "Enter the values: \n",
      "12\n",
      "-34\n",
      "6\n",
      "72\n",
      " \n",
      "Input: [12, -34, 6, 72]\n",
      "Output: [12, 6, 72]\n"
     ]
    }
   ],
   "source": [
    "list = []\n",
    "a = int(input('The number values be put in list:'))\n",
    "print (\"Enter the values: \")\n",
    "\n",
    "for i in range(0,a):\n",
    "    list.append(int(input()))\n",
    "    \n",
    "print(\" \")\n",
    "print (\"Input:\",list)\n",
    "print(\"Output:\",[list for list in list if list>0])"
   ]
  },
  {
   "cell_type": "code",
   "execution_count": 3,
   "metadata": {},
   "outputs": [
    {
     "name": "stdout",
     "output_type": "stream",
     "text": [
      "Input: list1 = [12, -7, 5, 64, -14]\n",
      "Output: [12, 5, 64]\n",
      " \n",
      "Input: list2 = [12, 14, -95, 3]\n",
      "Output: [12, 14, 3]\n"
     ]
    }
   ],
   "source": [
    "x = [12,-7,5,64,-14]\n",
    "y = [12,14,-95,3]\n",
    "\n",
    "print (\"Input: list1 =\",x)\n",
    "print(\"Output:\",[x for x in x if x>0])\n",
    "print(\" \")\n",
    "print (\"Input: list2 =\",y)\n",
    "print(\"Output:\",[y for y in y if y>0])"
   ]
  }
 ],
 "metadata": {
  "kernelspec": {
   "display_name": "Python 3",
   "language": "python",
   "name": "python3"
  },
  "language_info": {
   "codemirror_mode": {
    "name": "ipython",
    "version": 3
   },
   "file_extension": ".py",
   "mimetype": "text/x-python",
   "name": "python",
   "nbconvert_exporter": "python",
   "pygments_lexer": "ipython3",
   "version": "3.7.6"
  }
 },
 "nbformat": 4,
 "nbformat_minor": 4
}
